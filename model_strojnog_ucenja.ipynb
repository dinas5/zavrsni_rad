{
 "cells": [
  {
   "cell_type": "code",
   "execution_count": 2,
   "id": "17bd873c",
   "metadata": {},
   "outputs": [],
   "source": [
    "import tensorflow as tf\n",
    "from tensorflow import keras\n",
    "import os\n",
    "\n",
    "base_dir = 'fruits262-mini'"
   ]
  },
  {
   "cell_type": "code",
   "execution_count": 3,
   "id": "68b12c5e",
   "metadata": {},
   "outputs": [
    {
     "name": "stdout",
     "output_type": "stream",
     "text": [
      "Found 37795 images belonging to 48 classes.\n",
      "Found 9429 images belonging to 48 classes.\n"
     ]
    }
   ],
   "source": [
    "IMAGE_SIZE = 224\n",
    "BATCH_SIZE = 32\n",
    "\n",
    "datagen = tf.keras.preprocessing.image.ImageDataGenerator(rescale = 1./255,\n",
    "                                                         validation_split = 0.2)\n",
    "\n",
    "train_generator = datagen.flow_from_directory(\n",
    "base_dir,\n",
    "target_size = (IMAGE_SIZE, IMAGE_SIZE),\n",
    "batch_size = BATCH_SIZE,\n",
    "    subset = 'training'\n",
    ")\n",
    "val_generator = datagen.flow_from_directory(\n",
    "    base_dir,\n",
    "    target_size = (IMAGE_SIZE, IMAGE_SIZE),\n",
    "    batch_size = BATCH_SIZE,\n",
    "    subset = 'validation')"
   ]
  },
  {
   "cell_type": "code",
   "execution_count": 4,
   "id": "cb0422a2",
   "metadata": {},
   "outputs": [
    {
     "name": "stdout",
     "output_type": "stream",
     "text": [
      "{'apple': 0, 'apricot': 1, 'araza': 2, 'avocado': 3, 'banana': 4, 'barbadine': 5, 'bell pepper': 6, 'blueberry': 7, 'cantaloupe': 8, 'cherry': 9, 'clementine': 10, 'coconut': 11, 'cranberry': 12, 'date': 13, 'dragonfruit': 14, 'eggplant': 15, 'fig': 16, 'grape': 17, 'grapefruit': 18, 'guanabana': 19, 'guarana': 20, 'guava': 21, 'jalapeno': 22, 'kiwi': 23, 'lemon': 24, 'lime': 25, 'lucuma': 26, 'lychee': 27, 'macadamia': 28, 'mandarine': 29, 'mango': 30, 'mangosteen': 31, 'muskmelon': 32, 'naranjilla': 33, 'orange': 34, 'papaya': 35, 'passion fruit': 36, 'pear': 37, 'pineapple': 38, 'pomegranate': 39, 'pumpkin': 40, 'raspberry': 41, 'redcurrant': 42, 'salak': 43, 'strawberry': 44, 'tamarillo': 45, 'tomato': 46, 'watermelon': 47}\n"
     ]
    }
   ],
   "source": [
    "print(train_generator.class_indices)\n",
    "labels = '\\n'.join(sorted(train_generator.class_indices.keys()))\n",
    "with open('labels.txt', 'w') as f:\n",
    "    f.write(labels)"
   ]
  },
  {
   "cell_type": "code",
   "execution_count": 5,
   "id": "4c6a9c65",
   "metadata": {},
   "outputs": [],
   "source": [
    "IMG_SHAPE = (IMAGE_SIZE, IMAGE_SIZE, 3)\n",
    "base_model = tf.keras.applications.MobileNetV2(\n",
    "    input_shape = IMG_SHAPE,\n",
    "    include_top = False,\n",
    "    weights = 'imagenet'\n",
    ")"
   ]
  },
  {
   "cell_type": "code",
   "execution_count": 6,
   "id": "f15f7c49",
   "metadata": {},
   "outputs": [],
   "source": [
    "base_model.trainable = False\n",
    "model = tf.keras.Sequential([\n",
    "    base_model,\n",
    "    tf.keras.layers.Conv2D(32, (3,3), activation = 'relu'),\n",
    "    tf.keras.layers.Dropout(0.2),\n",
    "    tf.keras.layers.GlobalAveragePooling2D(),\n",
    "    tf.keras.layers.Dense(48, activation = 'softmax')\n",
    "])"
   ]
  },
  {
   "cell_type": "code",
   "execution_count": 7,
   "id": "009b8810",
   "metadata": {},
   "outputs": [],
   "source": [
    "model.compile(\n",
    "     optimizer=tf.keras.optimizers.Adam(),\n",
    "     loss='categorical_crossentropy',\n",
    "     metrics=['accuracy']\n",
    ")"
   ]
  },
  {
   "cell_type": "code",
   "execution_count": 9,
   "id": "e9509cd2",
   "metadata": {},
   "outputs": [
    {
     "name": "stdout",
     "output_type": "stream",
     "text": [
      "Epoch 1/10\n",
      "1182/1182 [==============================] - 1208s 1s/step - loss: 1.6399 - accuracy: 0.5487 - val_loss: 1.1532 - val_accuracy: 0.6640\n",
      "Epoch 2/10\n",
      "1182/1182 [==============================] - 1018s 861ms/step - loss: 1.0139 - accuracy: 0.7028 - val_loss: 1.0905 - val_accuracy: 0.6754\n",
      "Epoch 3/10\n",
      "1182/1182 [==============================] - 1038s 879ms/step - loss: 0.8732 - accuracy: 0.7374 - val_loss: 1.0435 - val_accuracy: 0.7026\n",
      "Epoch 4/10\n",
      "1182/1182 [==============================] - 1139s 964ms/step - loss: 0.7664 - accuracy: 0.7670 - val_loss: 1.0557 - val_accuracy: 0.7002\n",
      "Epoch 5/10\n",
      "1182/1182 [==============================] - 1042s 882ms/step - loss: 0.7017 - accuracy: 0.7834 - val_loss: 1.0771 - val_accuracy: 0.7061\n",
      "Epoch 6/10\n",
      "1182/1182 [==============================] - 1033s 874ms/step - loss: 0.6344 - accuracy: 0.8004 - val_loss: 1.1529 - val_accuracy: 0.6915\n",
      "Epoch 7/10\n",
      "1182/1182 [==============================] - 1035s 876ms/step - loss: 0.5881 - accuracy: 0.8134 - val_loss: 1.1505 - val_accuracy: 0.6986\n",
      "Epoch 8/10\n",
      "1182/1182 [==============================] - 1080s 914ms/step - loss: 0.5381 - accuracy: 0.8293 - val_loss: 1.1392 - val_accuracy: 0.7019\n",
      "Epoch 9/10\n",
      "1182/1182 [==============================] - 1085s 918ms/step - loss: 0.4980 - accuracy: 0.8389 - val_loss: 1.2092 - val_accuracy: 0.7026\n",
      "Epoch 10/10\n",
      "1182/1182 [==============================] - 1117s 945ms/step - loss: 0.4701 - accuracy: 0.8468 - val_loss: 1.1549 - val_accuracy: 0.7197\n"
     ]
    }
   ],
   "source": [
    "epochs = 10\n",
    "history = model.fit(\n",
    "          train_generator,\n",
    "          epochs = epochs,\n",
    "          validation_data = val_generator)"
   ]
  },
  {
   "cell_type": "code",
   "execution_count": 8,
   "id": "f76560af",
   "metadata": {},
   "outputs": [],
   "source": [
    "keras_file = \"MobileNetV2_Model.h5\"\n",
    "keras.models.save_model(model , keras_file)"
   ]
  },
  {
   "cell_type": "code",
   "execution_count": 9,
   "id": "45f4b287",
   "metadata": {},
   "outputs": [
    {
     "name": "stderr",
     "output_type": "stream",
     "text": [
      "WARNING:absl:Function `_wrapped_model` contains input name(s) mobilenetv2_1.00_224_input with unsupported characters which will be renamed to mobilenetv2_1_00_224_input in the SavedModel.\n",
      "WARNING:absl:Found untraced functions such as _jit_compiled_convolution_op, _jit_compiled_convolution_op, _jit_compiled_convolution_op, _jit_compiled_convolution_op, _jit_compiled_convolution_op while saving (showing 5 of 53). These functions will not be directly callable after loading.\n"
     ]
    },
    {
     "name": "stdout",
     "output_type": "stream",
     "text": [
      "INFO:tensorflow:Assets written to: C:\\Users\\Dina\\AppData\\Local\\Temp\\tmpzcj3uvcx\\assets\n"
     ]
    },
    {
     "name": "stderr",
     "output_type": "stream",
     "text": [
      "INFO:tensorflow:Assets written to: C:\\Users\\Dina\\AppData\\Local\\Temp\\tmpzcj3uvcx\\assets\n"
     ]
    },
    {
     "data": {
      "text/plain": [
       "10349948"
      ]
     },
     "execution_count": 9,
     "metadata": {},
     "output_type": "execute_result"
    }
   ],
   "source": [
    "My_TFLite_Model1 = tf.keras.models.load_model('MobileNetV2_Model.h5')\n",
    "converter = tf.lite.TFLiteConverter.from_keras_model(My_TFLite_Model1)\n",
    "tflite_model1 = converter.convert()\n",
    "open(\"My_TFLite_Model1.tflite\", \"wb\").write(tflite_model1)"
   ]
  },
  {
   "cell_type": "code",
   "execution_count": null,
   "id": "7a6614fa",
   "metadata": {},
   "outputs": [],
   "source": []
  }
 ],
 "metadata": {
  "kernelspec": {
   "display_name": "Python 3 (ipykernel)",
   "language": "python",
   "name": "python3"
  },
  "language_info": {
   "codemirror_mode": {
    "name": "ipython",
    "version": 3
   },
   "file_extension": ".py",
   "mimetype": "text/x-python",
   "name": "python",
   "nbconvert_exporter": "python",
   "pygments_lexer": "ipython3",
   "version": "3.9.12"
  }
 },
 "nbformat": 4,
 "nbformat_minor": 5
}
